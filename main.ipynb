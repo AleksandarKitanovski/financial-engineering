{
 "cells": [
  {
   "cell_type": "markdown",
   "id": "e454bf3d",
   "metadata": {},
   "source": [
    "# Interest Rate Risk: Duration and Convexity"
   ]
  },
  {
   "cell_type": "code",
   "execution_count": 26,
   "id": "eb21f6c1",
   "metadata": {},
   "outputs": [],
   "source": [
    "def calculate_bond_price(\n",
    "    par_value: float,\n",
    "    coupon: float,\n",
    "    yield_to_maturity: float,\n",
    "    num_periods: int,\n",
    "    num_periods_per_year: int,\n",
    ") -> float:\n",
    "    periodic_yield = yield_to_maturity / num_periods_per_year\n",
    "\n",
    "    price = 0\n",
    "    for period in range(1, num_periods + 1):\n",
    "        price += coupon / (1 + periodic_yield) ** period\n",
    "    \n",
    "    price += par_value / (1 + periodic_yield) ** num_periods \n",
    "\n",
    "    return price\n"
   ]
  },
  {
   "cell_type": "markdown",
   "id": "1f51b46c",
   "metadata": {},
   "source": [
    "## Duration\n",
    "Duartion is one of the ways to measure the risk of a bond. The formula for calculating duration is:\n",
    "$$\n",
    "D = \\frac{\n",
    "    \\sum_{t=1}^{n}{\n",
    "        \\frac{tC}{(1+y)^t}\n",
    "    } \n",
    "    + \\frac{nM}{(1+y)^n}\n",
    "}{P}\n",
    "$$\n",
    "\n",
    "where:\n",
    "\n",
    "* t = Time period\n",
    "* C = Coupon payment\n",
    "* y = Periodic yield\n",
    "* n = Number of periods\n",
    "* M = Maturity value\n",
    "* P = Current price\n",
    "\n",
    "The duration of a bond is the average number of years untill the present value of the bond's cash flows equals the amount paid for the bond. \n",
    "\n",
    "Duration is also known as Macaulay Duration, named after the economist Frederick Macaulay."
   ]
  },
  {
   "cell_type": "code",
   "execution_count": 28,
   "id": "0672bacc",
   "metadata": {},
   "outputs": [],
   "source": [
    "def calculate_duration(\n",
    "    par_value: float,\n",
    "    coupon: float,\n",
    "    yield_to_maturity: float,\n",
    "    num_periods: int,\n",
    "    num_periods_per_year: int,\n",
    ") -> float:\n",
    "    periodic_yield = yield_to_maturity / num_periods_per_year\n",
    "    price = calculate_bond_price(\n",
    "        par_value, coupon, yield_to_maturity, num_periods, num_periods_per_year\n",
    "    )\n",
    "\n",
    "    duration = 0\n",
    "    for t in range(1, num_periods + 1):\n",
    "        duration += (t * coupon) / (1 + periodic_yield) ** t\n",
    "\n",
    "    duration += (num_periods * par_value) / (1 + periodic_yield) ** num_periods\n",
    "    duration /= price\n",
    "    duration /= num_periods_per_year\n",
    "\n",
    "    return duration"
   ]
  },
  {
   "cell_type": "code",
   "execution_count": 32,
   "id": "3f560c6f",
   "metadata": {},
   "outputs": [
    {
     "name": "stdout",
     "output_type": "stream",
     "text": [
      "Price: $1000.00\n",
      "Duration: 2.79 years\n"
     ]
    }
   ],
   "source": [
    "par_value = 1000\n",
    "coupon = 30\n",
    "yield_to_maturity = 0.06\n",
    "periods = 6\n",
    "num_periods_per_year = 2\n",
    "\n",
    "price = calculate_bond_price(par_value, coupon, yield_to_maturity, periods, num_periods_per_year)\n",
    "duration = calculate_duration(\n",
    "    par_value, coupon, yield_to_maturity, periods, num_periods_per_year\n",
    ")\n",
    "\n",
    "print(f\"Price: ${price:.2f}\")\n",
    "print(f\"Duration: {duration:.2f} years\")"
   ]
  },
  {
   "cell_type": "code",
   "execution_count": 31,
   "id": "10014992",
   "metadata": {},
   "outputs": [
    {
     "name": "stdout",
     "output_type": "stream",
     "text": [
      "Price: $110.83\n",
      "Duration: 2.684 years\n"
     ]
    }
   ],
   "source": [
    "par_value = 100\n",
    "coupon = 5\n",
    "yield_to_maturity = 0.06\n",
    "periods = 6\n",
    "num_periods_per_year = 2\n",
    "\n",
    "price = calculate_bond_price(par_value, coupon, yield_to_maturity, periods, num_periods_per_year)\n",
    "duration = calculate_duration(\n",
    "    par_value, coupon, yield_to_maturity, periods, num_periods_per_year\n",
    ")\n",
    "\n",
    "print(f\"Price: ${price:.2f}\")\n",
    "print(f\"Duration: {duration:.3f} years\")"
   ]
  },
  {
   "cell_type": "markdown",
   "id": "143db9e9",
   "metadata": {},
   "source": [
    "## Modified Duration\n",
    "\n",
    "The Modified duration of a bond is defined as the percentage change in price, over the percentage change in yield, i.e.\n",
    "\n",
    "$$\n",
    "\\text{ModD} = - \\frac{\\Delta P/P}{\\Delta y}\n",
    "$$\n",
    "\n",
    "Modified duration is closely related to duration (hence the name), and is usually calculated using the formula:\n",
    "\n",
    "$$\n",
    "\\text{ModD} = \\frac{D}{{1 + \\frac{y}{n}}}\n",
    "$$\n",
    "\n",
    "where n is the number of compounding periods per year\n",
    "\n",
    "Modified duration is a local measure and can only be used to approximate the price for small changes in yield (say around 1% or 100bp).\n",
    "\n",
    "To get the new price using modified duration we can use:\n",
    "$ P_{\\text{new}} = P_{\\text{old}}[1 - \\text{ModD} \\Delta y] $ "
   ]
  },
  {
   "cell_type": "code",
   "execution_count": 10,
   "id": "80ddc0d6",
   "metadata": {},
   "outputs": [],
   "source": [
    "def calculate_modified_duration(\n",
    "    duration: float,\n",
    "    yield_to_maturity: float,\n",
    "    num_periods_per_year: int\n",
    ") -> float:\n",
    "    modified_duration = duration / (1 + yield_to_maturity / num_periods_per_year)\n",
    "    return modified_duration"
   ]
  },
  {
   "cell_type": "code",
   "execution_count": null,
   "id": "3bd758da",
   "metadata": {},
   "outputs": [
    {
     "name": "stdout",
     "output_type": "stream",
     "text": [
      "Price: $1136.16\n",
      "Duration: 2.753 years\n",
      "Modified Duration: 2.62\n",
      "Price in case of a 0.15% increase in yield: $1131.69\n",
      "Price in case of a 0.15% decrease in yield: $1140.63\n"
     ]
    }
   ],
   "source": [
    "par_value = 1000\n",
    "coupon = 100\n",
    "yield_to_maturity = 0.05\n",
    "periods = 3\n",
    "num_periods_per_year = 1\n",
    "\n",
    "price = calculate_bond_price(\n",
    "    par_value, coupon, yield_to_maturity, periods, num_periods_per_year\n",
    ")\n",
    "print(f\"Price: ${price:.2f}\")\n",
    "\n",
    "duration = calculate_duration(\n",
    "    par_value, coupon, yield_to_maturity, periods, num_periods_per_year\n",
    ")\n",
    "print(f\"Duration: {duration:.3f} years\")\n",
    "\n",
    "convexity = calculate_modified_duration(\n",
    "    duration, yield_to_maturity, num_periods_per_year\n",
    ")\n",
    "print(f\"Modified Duration: {convexity:.2f}\")\n",
    "\n",
    "new_price = price * (1 - convexity * 0.0015)\n",
    "print(f\"Price in case of a 0.15% increase in yield: ${new_price:.2f}\")\n",
    "\n",
    "new_price = price * (1 - convexity * -0.0015)\n",
    "print(f\"Price in case of a 0.15% decrease in yield: ${new_price:.2f}\")"
   ]
  },
  {
   "cell_type": "markdown",
   "id": "fa6ccc8a",
   "metadata": {},
   "source": [
    "### Computational calculation of Modified Duration\n",
    "The general way to compute the Modified duration of a bond is to calculate the price for a small increase and decrease in yield, and use these values to compute the modified duration.\n",
    "Mathematically this can be expressed as:\n",
    "\n",
    "$$\n",
    "\\text{ModD} = - \\frac{(P_{+dy} - P_{-dy}) / P}{2dy}\n",
    "$$\n",
    "\n",
    "where:\n",
    "* $dy$ - the change in price (or blip), taken to be 1bp, 2bp, or 0.5bp (depending on required precision)\n",
    "* $P_{\\pm dy}$ - The price when the yield is increased/decreased by $dy$"
   ]
  },
  {
   "cell_type": "code",
   "execution_count": 54,
   "id": "ed65921f",
   "metadata": {},
   "outputs": [],
   "source": [
    "def calculate_modified_duration_comp(\n",
    "    par_value: float,\n",
    "    coupon: float,\n",
    "    yield_to_maturity: float,\n",
    "    num_periods: int,\n",
    "    num_periods_per_year: int,\n",
    "    blip: float = 0.00005,\n",
    ") -> float:\n",
    "    price = calculate_bond_price(\n",
    "        par_value, coupon, yield_to_maturity, num_periods, num_periods_per_year\n",
    "    )\n",
    "\n",
    "    price_1 = calculate_bond_price(\n",
    "        par_value, coupon, yield_to_maturity + blip, num_periods, num_periods_per_year\n",
    "    )\n",
    "    price_2 = calculate_bond_price(\n",
    "        par_value, coupon, yield_to_maturity - blip, num_periods, num_periods_per_year\n",
    "    )\n",
    "\n",
    "    price_change = price_1 - price_2\n",
    "    price_percentage_change = price_change / price\n",
    "    yield_change = 2 * blip\n",
    "    modified_duration = - price_percentage_change / yield_change\n",
    "\n",
    "    return modified_duration"
   ]
  },
  {
   "cell_type": "code",
   "execution_count": null,
   "id": "f8c7075a",
   "metadata": {},
   "outputs": [
    {
     "name": "stdout",
     "output_type": "stream",
     "text": [
      "Modified Duriation: 4.7807\n"
     ]
    }
   ],
   "source": [
    "par_value = 100 \n",
    "coupon = 3.5\n",
    "yield_to_maturity = 0.08\n",
    "periods = 12\n",
    "num_periods_per_year = 2\n",
    "\n",
    "convexity = calculate_modified_duration_comp(par_value, coupon, yield_to_maturity, periods, num_periods_per_year, blip=0.0002)\n",
    "print(f\"Modified Duriation: {convexity:.4f}\")"
   ]
  },
  {
   "cell_type": "markdown",
   "id": "aaeb6f26",
   "metadata": {},
   "source": [
    "## Portfolio Duration"
   ]
  },
  {
   "cell_type": "markdown",
   "id": "34621b39",
   "metadata": {},
   "source": [
    "## Convexity\n",
    "\n",
    "Convexity is used to improve the accuracy of the modified duration approximation to the change in the value of the bond. It is important to include it to the approximation for:\n",
    "\n",
    "* Large changes in the yield-to-maturity\n",
    "* Bonds with highly non-linear price-yield relationships\n",
    "\n",
    "Convexity is used because the modified duration is a linear approximation of a non-linear function (i.e. the price).\n",
    "\n",
    "Convexity can be computed numerically as:\n",
    "\n",
    "$$\n",
    "C = \n",
    "\\frac{1}{2} \n",
    "\\frac{\n",
    "    (P_{+dy} + P_{-dy} - 2P) / P\n",
    "}\n",
    "{\n",
    "dy^2\n",
    "}\n",
    "$$"
   ]
  },
  {
   "cell_type": "code",
   "execution_count": 70,
   "id": "c36fc360",
   "metadata": {},
   "outputs": [],
   "source": [
    "def calculate_convexity(\n",
    "    par_value: float,\n",
    "    coupon: float,\n",
    "    yield_to_maturity: float,\n",
    "    num_periods: int,\n",
    "    num_periods_per_year: int,\n",
    "    blip: float = 0.00005,\n",
    ") -> float:\n",
    "    price = calculate_bond_price(\n",
    "        par_value, coupon, yield_to_maturity, num_periods, num_periods_per_year\n",
    "    )\n",
    "\n",
    "    price_1 = calculate_bond_price(\n",
    "        par_value, coupon, yield_to_maturity + blip, num_periods, num_periods_per_year\n",
    "    )\n",
    "\n",
    "    price_2 = calculate_bond_price(\n",
    "        par_value, coupon, yield_to_maturity - blip, num_periods, num_periods_per_year\n",
    "    )\n",
    "\n",
    "    convexity = 0.5 * ((price_1 + price_2 - 2 * price) / price) / blip**2\n",
    "    return convexity"
   ]
  },
  {
   "cell_type": "code",
   "execution_count": 71,
   "id": "c0c463dd",
   "metadata": {},
   "outputs": [
    {
     "name": "stdout",
     "output_type": "stream",
     "text": [
      "Convexity: 13.9753\n"
     ]
    }
   ],
   "source": [
    "par_value = 100 \n",
    "coupon = 3.5\n",
    "yield_to_maturity = 0.08\n",
    "periods = 12\n",
    "num_periods_per_year = 2\n",
    "\n",
    "convexity = calculate_convexity(par_value, coupon, yield_to_maturity, periods, num_periods_per_year, blip=0.0002)\n",
    "print(f\"Convexity: {convexity:.4f}\")"
   ]
  },
  {
   "cell_type": "markdown",
   "id": "c8fbfd52",
   "metadata": {},
   "source": [
    "## Other Risk Measures"
   ]
  }
 ],
 "metadata": {
  "kernelspec": {
   "display_name": "financial-engineering (3.14.0)",
   "language": "python",
   "name": "python3"
  },
  "language_info": {
   "codemirror_mode": {
    "name": "ipython",
    "version": 3
   },
   "file_extension": ".py",
   "mimetype": "text/x-python",
   "name": "python",
   "nbconvert_exporter": "python",
   "pygments_lexer": "ipython3",
   "version": "3.14.0"
  }
 },
 "nbformat": 4,
 "nbformat_minor": 5
}
